{
 "cells": [
  {
   "cell_type": "code",
   "execution_count": null,
   "metadata": {},
   "outputs": [
    {
     "ename": "",
     "evalue": "",
     "output_type": "error",
     "traceback": [
      "\u001b[1;31mRunning cells with 'Python 3.13.1' requires the ipykernel package.\n",
      "\u001b[1;31mRun the following command to install 'ipykernel' into the Python environment. \n",
      "\u001b[1;31mCommand: '/opt/homebrew/bin/python3 -m pip install ipykernel -U --user --force-reinstall'"
     ]
    }
   ],
   "source": [
    "import pandas as pd\n",
    "import numpy as np\n",
    "\n",
    "# read csv file, columns separated by tab, and save to data frame\n",
    "df = pd.read_csv('clf_data.csv',sep='\\t')\n",
    "df.columns = ['median_curv', 'min_curv', 'melt_temp','type', 'mfg_process','failure']\n",
    "\n",
    "# check for null values\n",
    "df.isnull()\n",
    "\n",
    "#check fo null values simultaneously appearing in specific columns\n",
    "# axis 0 and 1 refers to rows and columns respectively\n",
    "df[df.loc[:,['min_curv', 'melt_temp'] ].isnull().sum(axis=1)==2]\n",
    "# df[df.loc[:,['min_curv', 'melt_temp'] ].isnull().sum(axis=1)==2].count()"
   ]
  },
  {
   "cell_type": "markdown",
   "metadata": {},
   "source": [
    "To replace null (NaN) values in a column of a Pandas DataFrame, you can use the fillna() method. This method allows you to replace NaN values with a specified value or method. \n",
    "The inplace=True argument modifies the DataFrame in place. If you omit this argument or set it to False, fillna() will return a new DataFrame with the modifications, leaving the original DataFrame unchanged."
   ]
  },
  {
   "cell_type": "code",
   "execution_count": 49,
   "metadata": {},
   "outputs": [
    {
     "name": "stderr",
     "output_type": "stream",
     "text": [
      "/var/folders/5s/b7sz0shx6qz4p5w457drd7nr0000gp/T/ipykernel_71117/2927992671.py:7: FutureWarning: Series.fillna with 'method' is deprecated and will raise in a future version. Use obj.ffill() or obj.bfill() instead.\n",
      "  df_update = df['melt_temp'].fillna(method='backfill')\n"
     ]
    },
    {
     "data": {
      "text/plain": [
       "True"
      ]
     },
     "execution_count": 49,
     "metadata": {},
     "output_type": "execute_result"
    }
   ],
   "source": [
    "df_update = df['melt_temp'].fillna(df['melt_temp'].mean())\n",
    "\n",
    "# Fill NaN values using forward fill (propagate last valid observation forward)\n",
    "# df_update = df['melt_temp'].fillna(method='ffill')\n",
    "\n",
    "# Fill NaN values using backward fill (propagate next valid observation backward)\n",
    "df_update = df['melt_temp'].fillna(method='backfill')\n",
    "\n",
    "df_update.isnull().any()"
   ]
  },
  {
   "cell_type": "markdown",
   "metadata": {},
   "source": [
    "To remove rows with NaN values from a Pandas DataFrame, you can use the dropna() method. This method offers a flexible way to handle missing values by removing rows (or columns) that contain missing data."
   ]
  },
  {
   "cell_type": "code",
   "execution_count": 50,
   "metadata": {},
   "outputs": [],
   "source": [
    "df_cleaned = df.dropna()"
   ]
  },
  {
   "cell_type": "markdown",
   "metadata": {},
   "source": [
    "If you want to remove rows where all values are NaN, you can specify the how parameter as 'all'.\n",
    "If you only want to remove rows based on NaN values in specific columns, you can use the subset parameter"
   ]
  },
  {
   "cell_type": "code",
   "execution_count": 51,
   "metadata": {},
   "outputs": [
    {
     "name": "stdout",
     "output_type": "stream",
     "text": [
      "median_curv    289\n",
      "min_curv       289\n",
      "melt_temp      289\n",
      "type           289\n",
      "mfg_process    289\n",
      "failure        289\n",
      "dtype: int64\n"
     ]
    },
    {
     "data": {
      "text/html": [
       "<div>\n",
       "<style scoped>\n",
       "    .dataframe tbody tr th:only-of-type {\n",
       "        vertical-align: middle;\n",
       "    }\n",
       "\n",
       "    .dataframe tbody tr th {\n",
       "        vertical-align: top;\n",
       "    }\n",
       "\n",
       "    .dataframe thead th {\n",
       "        text-align: right;\n",
       "    }\n",
       "</style>\n",
       "<table border=\"1\" class=\"dataframe\">\n",
       "  <thead>\n",
       "    <tr style=\"text-align: right;\">\n",
       "      <th></th>\n",
       "      <th>median_curv</th>\n",
       "      <th>min_curv</th>\n",
       "      <th>melt_temp</th>\n",
       "      <th>type</th>\n",
       "      <th>mfg_process</th>\n",
       "      <th>failure</th>\n",
       "    </tr>\n",
       "  </thead>\n",
       "  <tbody>\n",
       "    <tr>\n",
       "      <th>0</th>\n",
       "      <td>1.008164</td>\n",
       "      <td>0.959997</td>\n",
       "      <td>197.0</td>\n",
       "      <td>standard</td>\n",
       "      <td>forged</td>\n",
       "      <td>fatigue</td>\n",
       "    </tr>\n",
       "    <tr>\n",
       "      <th>1</th>\n",
       "      <td>1.148136</td>\n",
       "      <td>1.252910</td>\n",
       "      <td>514.0</td>\n",
       "      <td>custom</td>\n",
       "      <td>cast</td>\n",
       "      <td>fretting</td>\n",
       "    </tr>\n",
       "    <tr>\n",
       "      <th>3</th>\n",
       "      <td>1.276574</td>\n",
       "      <td>1.064041</td>\n",
       "      <td>1379.0</td>\n",
       "      <td>custom</td>\n",
       "      <td>cast</td>\n",
       "      <td>fatigue</td>\n",
       "    </tr>\n",
       "    <tr>\n",
       "      <th>6</th>\n",
       "      <td>1.318799</td>\n",
       "      <td>1.120754</td>\n",
       "      <td>704.0</td>\n",
       "      <td>custom</td>\n",
       "      <td>cast</td>\n",
       "      <td>creep</td>\n",
       "    </tr>\n",
       "    <tr>\n",
       "      <th>9</th>\n",
       "      <td>1.500231</td>\n",
       "      <td>1.123470</td>\n",
       "      <td>948.0</td>\n",
       "      <td>standard</td>\n",
       "      <td>cast</td>\n",
       "      <td>fatigue</td>\n",
       "    </tr>\n",
       "    <tr>\n",
       "      <th>...</th>\n",
       "      <td>...</td>\n",
       "      <td>...</td>\n",
       "      <td>...</td>\n",
       "      <td>...</td>\n",
       "      <td>...</td>\n",
       "      <td>...</td>\n",
       "    </tr>\n",
       "    <tr>\n",
       "      <th>488</th>\n",
       "      <td>1.713505</td>\n",
       "      <td>1.254165</td>\n",
       "      <td>682.0</td>\n",
       "      <td>custom</td>\n",
       "      <td>cast</td>\n",
       "      <td>fatigue</td>\n",
       "    </tr>\n",
       "    <tr>\n",
       "      <th>491</th>\n",
       "      <td>1.603568</td>\n",
       "      <td>1.402481</td>\n",
       "      <td>1580.0</td>\n",
       "      <td>custom</td>\n",
       "      <td>cast</td>\n",
       "      <td>fatigue</td>\n",
       "    </tr>\n",
       "    <tr>\n",
       "      <th>494</th>\n",
       "      <td>1.155468</td>\n",
       "      <td>0.972179</td>\n",
       "      <td>2205.0</td>\n",
       "      <td>standard</td>\n",
       "      <td>forged</td>\n",
       "      <td>fatigue</td>\n",
       "    </tr>\n",
       "    <tr>\n",
       "      <th>495</th>\n",
       "      <td>1.410586</td>\n",
       "      <td>1.183886</td>\n",
       "      <td>1279.0</td>\n",
       "      <td>standard</td>\n",
       "      <td>cast</td>\n",
       "      <td>fretting</td>\n",
       "    </tr>\n",
       "    <tr>\n",
       "      <th>496</th>\n",
       "      <td>1.774378</td>\n",
       "      <td>1.415673</td>\n",
       "      <td>1536.0</td>\n",
       "      <td>standard</td>\n",
       "      <td>forged</td>\n",
       "      <td>fatigue</td>\n",
       "    </tr>\n",
       "  </tbody>\n",
       "</table>\n",
       "<p>289 rows × 6 columns</p>\n",
       "</div>"
      ],
      "text/plain": [
       "     median_curv  min_curv  melt_temp      type mfg_process   failure\n",
       "0       1.008164  0.959997      197.0  standard      forged   fatigue\n",
       "1       1.148136  1.252910      514.0    custom        cast  fretting\n",
       "3       1.276574  1.064041     1379.0    custom        cast   fatigue\n",
       "6       1.318799  1.120754      704.0    custom        cast     creep\n",
       "9       1.500231  1.123470      948.0  standard        cast   fatigue\n",
       "..           ...       ...        ...       ...         ...       ...\n",
       "488     1.713505  1.254165      682.0    custom        cast   fatigue\n",
       "491     1.603568  1.402481     1580.0    custom        cast   fatigue\n",
       "494     1.155468  0.972179     2205.0  standard      forged   fatigue\n",
       "495     1.410586  1.183886     1279.0  standard        cast  fretting\n",
       "496     1.774378  1.415673     1536.0  standard      forged   fatigue\n",
       "\n",
       "[289 rows x 6 columns]"
      ]
     },
     "execution_count": 51,
     "metadata": {},
     "output_type": "execute_result"
    }
   ],
   "source": [
    "# Remove rows where all values are NaN\n",
    "# df_cleaned_all = df.dropna(how='all') #check how 'all' and 'any' are different\n",
    "df_cleaned_all = df.dropna(how='any') # removes any row with even one null\n",
    "df_cleaned_subset = df.dropna(subset=['min_curv', 'melt_temp'])\n",
    "df_cleaned_subset.count()\n",
    "print(df_cleaned_all.count())\n",
    "df_cleaned_all"
   ]
  },
  {
   "cell_type": "markdown",
   "metadata": {},
   "source": [
    "We will check Pearson correlations among our numerical variables and drop the highly correlated"
   ]
  },
  {
   "cell_type": "code",
   "execution_count": 52,
   "metadata": {},
   "outputs": [
    {
     "data": {
      "text/html": [
       "<div>\n",
       "<style scoped>\n",
       "    .dataframe tbody tr th:only-of-type {\n",
       "        vertical-align: middle;\n",
       "    }\n",
       "\n",
       "    .dataframe tbody tr th {\n",
       "        vertical-align: top;\n",
       "    }\n",
       "\n",
       "    .dataframe thead th {\n",
       "        text-align: right;\n",
       "    }\n",
       "</style>\n",
       "<table border=\"1\" class=\"dataframe\">\n",
       "  <thead>\n",
       "    <tr style=\"text-align: right;\">\n",
       "      <th></th>\n",
       "      <th>median_curv</th>\n",
       "      <th>min_curv</th>\n",
       "      <th>melt_temp</th>\n",
       "    </tr>\n",
       "  </thead>\n",
       "  <tbody>\n",
       "    <tr>\n",
       "      <th>median_curv</th>\n",
       "      <td>1.000000</td>\n",
       "      <td>0.819866</td>\n",
       "      <td>-0.076252</td>\n",
       "    </tr>\n",
       "    <tr>\n",
       "      <th>min_curv</th>\n",
       "      <td>0.819866</td>\n",
       "      <td>1.000000</td>\n",
       "      <td>-0.077257</td>\n",
       "    </tr>\n",
       "    <tr>\n",
       "      <th>melt_temp</th>\n",
       "      <td>-0.076252</td>\n",
       "      <td>-0.077257</td>\n",
       "      <td>1.000000</td>\n",
       "    </tr>\n",
       "  </tbody>\n",
       "</table>\n",
       "</div>"
      ],
      "text/plain": [
       "             median_curv  min_curv  melt_temp\n",
       "median_curv     1.000000  0.819866  -0.076252\n",
       "min_curv        0.819866  1.000000  -0.077257\n",
       "melt_temp      -0.076252 -0.077257   1.000000"
      ]
     },
     "execution_count": 52,
     "metadata": {},
     "output_type": "execute_result"
    }
   ],
   "source": [
    "df_cleaned_all[['median_curv','min_curv','melt_temp']].corr()"
   ]
  },
  {
   "cell_type": "code",
   "execution_count": 53,
   "metadata": {},
   "outputs": [
    {
     "name": "stdout",
     "output_type": "stream",
     "text": [
      "median_curv    500\n",
      "melt_temp      500\n",
      "type           500\n",
      "mfg_process    500\n",
      "failure        500\n",
      "dtype: int64\n"
     ]
    },
    {
     "name": "stderr",
     "output_type": "stream",
     "text": [
      "/var/folders/5s/b7sz0shx6qz4p5w457drd7nr0000gp/T/ipykernel_71117/1737883309.py:3: FutureWarning: A value is trying to be set on a copy of a DataFrame or Series through chained assignment using an inplace method.\n",
      "The behavior will change in pandas 3.0. This inplace method will never work because the intermediate object on which we are setting values always behaves as a copy.\n",
      "\n",
      "For example, when doing 'df[col].method(value, inplace=True)', try using 'df.method({col: value}, inplace=True)' or df[col] = df[col].method(value) instead, to perform the operation inplace on the original object.\n",
      "\n",
      "\n",
      "  df['melt_temp'].fillna(df['melt_temp'].median(), inplace=True)\n",
      "/var/folders/5s/b7sz0shx6qz4p5w457drd7nr0000gp/T/ipykernel_71117/1737883309.py:4: FutureWarning: A value is trying to be set on a copy of a DataFrame or Series through chained assignment using an inplace method.\n",
      "The behavior will change in pandas 3.0. This inplace method will never work because the intermediate object on which we are setting values always behaves as a copy.\n",
      "\n",
      "For example, when doing 'df[col].method(value, inplace=True)', try using 'df.method({col: value}, inplace=True)' or df[col] = df[col].method(value) instead, to perform the operation inplace on the original object.\n",
      "\n",
      "\n",
      "  df['median_curv'].fillna(df['median_curv'].mean(), inplace=True)\n"
     ]
    },
    {
     "data": {
      "text/html": [
       "<div>\n",
       "<style scoped>\n",
       "    .dataframe tbody tr th:only-of-type {\n",
       "        vertical-align: middle;\n",
       "    }\n",
       "\n",
       "    .dataframe tbody tr th {\n",
       "        vertical-align: top;\n",
       "    }\n",
       "\n",
       "    .dataframe thead th {\n",
       "        text-align: right;\n",
       "    }\n",
       "</style>\n",
       "<table border=\"1\" class=\"dataframe\">\n",
       "  <thead>\n",
       "    <tr style=\"text-align: right;\">\n",
       "      <th></th>\n",
       "      <th>median_curv</th>\n",
       "      <th>melt_temp</th>\n",
       "      <th>type</th>\n",
       "      <th>mfg_process</th>\n",
       "      <th>failure</th>\n",
       "    </tr>\n",
       "  </thead>\n",
       "  <tbody>\n",
       "    <tr>\n",
       "      <th>0</th>\n",
       "      <td>1.008164</td>\n",
       "      <td>197.0</td>\n",
       "      <td>standard</td>\n",
       "      <td>forged</td>\n",
       "      <td>fatigue</td>\n",
       "    </tr>\n",
       "    <tr>\n",
       "      <th>1</th>\n",
       "      <td>1.148136</td>\n",
       "      <td>514.0</td>\n",
       "      <td>custom</td>\n",
       "      <td>cast</td>\n",
       "      <td>fretting</td>\n",
       "    </tr>\n",
       "    <tr>\n",
       "      <th>2</th>\n",
       "      <td>1.046623</td>\n",
       "      <td>858.0</td>\n",
       "      <td>standard</td>\n",
       "      <td>cast</td>\n",
       "      <td>fatigue</td>\n",
       "    </tr>\n",
       "    <tr>\n",
       "      <th>3</th>\n",
       "      <td>1.276574</td>\n",
       "      <td>1379.0</td>\n",
       "      <td>custom</td>\n",
       "      <td>cast</td>\n",
       "      <td>fatigue</td>\n",
       "    </tr>\n",
       "    <tr>\n",
       "      <th>4</th>\n",
       "      <td>1.570190</td>\n",
       "      <td>1272.5</td>\n",
       "      <td>custom</td>\n",
       "      <td>cast</td>\n",
       "      <td>fatigue</td>\n",
       "    </tr>\n",
       "  </tbody>\n",
       "</table>\n",
       "</div>"
      ],
      "text/plain": [
       "   median_curv  melt_temp      type mfg_process   failure\n",
       "0     1.008164      197.0  standard      forged   fatigue\n",
       "1     1.148136      514.0    custom        cast  fretting\n",
       "2     1.046623      858.0  standard        cast   fatigue\n",
       "3     1.276574     1379.0    custom        cast   fatigue\n",
       "4     1.570190     1272.5    custom        cast   fatigue"
      ]
     },
     "execution_count": 53,
     "metadata": {},
     "output_type": "execute_result"
    }
   ],
   "source": [
    "df.drop('min_curv', axis=1, inplace=True)\n",
    "# df.drop(columns=['min_curv']) # alternative method\n",
    "df['melt_temp'].fillna(df['melt_temp'].median(), inplace=True)\n",
    "df['median_curv'].fillna(df['median_curv'].mean(), inplace=True)\n",
    "print(df.count())\n",
    "df.head()"
   ]
  },
  {
   "cell_type": "markdown",
   "metadata": {},
   "source": [
    "Sklearn decision tree classifier cannot handle string values. Thus we have to use one hot encoding to convert the strings to multiple columns"
   ]
  },
  {
   "cell_type": "code",
   "execution_count": 54,
   "metadata": {},
   "outputs": [
    {
     "data": {
      "text/html": [
       "<div>\n",
       "<style scoped>\n",
       "    .dataframe tbody tr th:only-of-type {\n",
       "        vertical-align: middle;\n",
       "    }\n",
       "\n",
       "    .dataframe tbody tr th {\n",
       "        vertical-align: top;\n",
       "    }\n",
       "\n",
       "    .dataframe thead th {\n",
       "        text-align: right;\n",
       "    }\n",
       "</style>\n",
       "<table border=\"1\" class=\"dataframe\">\n",
       "  <thead>\n",
       "    <tr style=\"text-align: right;\">\n",
       "      <th></th>\n",
       "      <th>median_curv</th>\n",
       "      <th>melt_temp</th>\n",
       "      <th>type</th>\n",
       "      <th>mfg_process</th>\n",
       "      <th>failure</th>\n",
       "      <th>type_custom</th>\n",
       "      <th>type_standard</th>\n",
       "      <th>mfg_process_cast</th>\n",
       "      <th>mfg_process_forged</th>\n",
       "      <th>mfg_process_machined</th>\n",
       "    </tr>\n",
       "  </thead>\n",
       "  <tbody>\n",
       "    <tr>\n",
       "      <th>0</th>\n",
       "      <td>1.008164</td>\n",
       "      <td>197.0</td>\n",
       "      <td>standard</td>\n",
       "      <td>forged</td>\n",
       "      <td>fatigue</td>\n",
       "      <td>0.0</td>\n",
       "      <td>1.0</td>\n",
       "      <td>0.0</td>\n",
       "      <td>1.0</td>\n",
       "      <td>0.0</td>\n",
       "    </tr>\n",
       "    <tr>\n",
       "      <th>1</th>\n",
       "      <td>1.148136</td>\n",
       "      <td>514.0</td>\n",
       "      <td>custom</td>\n",
       "      <td>cast</td>\n",
       "      <td>fretting</td>\n",
       "      <td>1.0</td>\n",
       "      <td>0.0</td>\n",
       "      <td>1.0</td>\n",
       "      <td>0.0</td>\n",
       "      <td>0.0</td>\n",
       "    </tr>\n",
       "    <tr>\n",
       "      <th>2</th>\n",
       "      <td>1.046623</td>\n",
       "      <td>858.0</td>\n",
       "      <td>standard</td>\n",
       "      <td>cast</td>\n",
       "      <td>fatigue</td>\n",
       "      <td>0.0</td>\n",
       "      <td>1.0</td>\n",
       "      <td>1.0</td>\n",
       "      <td>0.0</td>\n",
       "      <td>0.0</td>\n",
       "    </tr>\n",
       "    <tr>\n",
       "      <th>3</th>\n",
       "      <td>1.276574</td>\n",
       "      <td>1379.0</td>\n",
       "      <td>custom</td>\n",
       "      <td>cast</td>\n",
       "      <td>fatigue</td>\n",
       "      <td>1.0</td>\n",
       "      <td>0.0</td>\n",
       "      <td>1.0</td>\n",
       "      <td>0.0</td>\n",
       "      <td>0.0</td>\n",
       "    </tr>\n",
       "    <tr>\n",
       "      <th>4</th>\n",
       "      <td>1.570190</td>\n",
       "      <td>1272.5</td>\n",
       "      <td>custom</td>\n",
       "      <td>cast</td>\n",
       "      <td>fatigue</td>\n",
       "      <td>1.0</td>\n",
       "      <td>0.0</td>\n",
       "      <td>1.0</td>\n",
       "      <td>0.0</td>\n",
       "      <td>0.0</td>\n",
       "    </tr>\n",
       "    <tr>\n",
       "      <th>...</th>\n",
       "      <td>...</td>\n",
       "      <td>...</td>\n",
       "      <td>...</td>\n",
       "      <td>...</td>\n",
       "      <td>...</td>\n",
       "      <td>...</td>\n",
       "      <td>...</td>\n",
       "      <td>...</td>\n",
       "      <td>...</td>\n",
       "      <td>...</td>\n",
       "    </tr>\n",
       "    <tr>\n",
       "      <th>495</th>\n",
       "      <td>1.410586</td>\n",
       "      <td>1279.0</td>\n",
       "      <td>standard</td>\n",
       "      <td>cast</td>\n",
       "      <td>fretting</td>\n",
       "      <td>0.0</td>\n",
       "      <td>1.0</td>\n",
       "      <td>1.0</td>\n",
       "      <td>0.0</td>\n",
       "      <td>0.0</td>\n",
       "    </tr>\n",
       "    <tr>\n",
       "      <th>496</th>\n",
       "      <td>1.774378</td>\n",
       "      <td>1536.0</td>\n",
       "      <td>standard</td>\n",
       "      <td>forged</td>\n",
       "      <td>fatigue</td>\n",
       "      <td>0.0</td>\n",
       "      <td>1.0</td>\n",
       "      <td>0.0</td>\n",
       "      <td>1.0</td>\n",
       "      <td>0.0</td>\n",
       "    </tr>\n",
       "    <tr>\n",
       "      <th>497</th>\n",
       "      <td>1.443780</td>\n",
       "      <td>1272.5</td>\n",
       "      <td>standard</td>\n",
       "      <td>cast</td>\n",
       "      <td>fatigue</td>\n",
       "      <td>0.0</td>\n",
       "      <td>1.0</td>\n",
       "      <td>1.0</td>\n",
       "      <td>0.0</td>\n",
       "      <td>0.0</td>\n",
       "    </tr>\n",
       "    <tr>\n",
       "      <th>498</th>\n",
       "      <td>1.570190</td>\n",
       "      <td>738.0</td>\n",
       "      <td>standard</td>\n",
       "      <td>forged</td>\n",
       "      <td>fatigue</td>\n",
       "      <td>0.0</td>\n",
       "      <td>1.0</td>\n",
       "      <td>0.0</td>\n",
       "      <td>1.0</td>\n",
       "      <td>0.0</td>\n",
       "    </tr>\n",
       "    <tr>\n",
       "      <th>499</th>\n",
       "      <td>1.907398</td>\n",
       "      <td>1272.5</td>\n",
       "      <td>standard</td>\n",
       "      <td>machined</td>\n",
       "      <td>fretting</td>\n",
       "      <td>0.0</td>\n",
       "      <td>1.0</td>\n",
       "      <td>0.0</td>\n",
       "      <td>0.0</td>\n",
       "      <td>1.0</td>\n",
       "    </tr>\n",
       "  </tbody>\n",
       "</table>\n",
       "<p>500 rows × 10 columns</p>\n",
       "</div>"
      ],
      "text/plain": [
       "     median_curv  melt_temp      type mfg_process   failure  type_custom  \\\n",
       "0       1.008164      197.0  standard      forged   fatigue          0.0   \n",
       "1       1.148136      514.0    custom        cast  fretting          1.0   \n",
       "2       1.046623      858.0  standard        cast   fatigue          0.0   \n",
       "3       1.276574     1379.0    custom        cast   fatigue          1.0   \n",
       "4       1.570190     1272.5    custom        cast   fatigue          1.0   \n",
       "..           ...        ...       ...         ...       ...          ...   \n",
       "495     1.410586     1279.0  standard        cast  fretting          0.0   \n",
       "496     1.774378     1536.0  standard      forged   fatigue          0.0   \n",
       "497     1.443780     1272.5  standard        cast   fatigue          0.0   \n",
       "498     1.570190      738.0  standard      forged   fatigue          0.0   \n",
       "499     1.907398     1272.5  standard    machined  fretting          0.0   \n",
       "\n",
       "     type_standard  mfg_process_cast  mfg_process_forged  mfg_process_machined  \n",
       "0              1.0               0.0                 1.0                   0.0  \n",
       "1              0.0               1.0                 0.0                   0.0  \n",
       "2              1.0               1.0                 0.0                   0.0  \n",
       "3              0.0               1.0                 0.0                   0.0  \n",
       "4              0.0               1.0                 0.0                   0.0  \n",
       "..             ...               ...                 ...                   ...  \n",
       "495            1.0               1.0                 0.0                   0.0  \n",
       "496            1.0               0.0                 1.0                   0.0  \n",
       "497            1.0               1.0                 0.0                   0.0  \n",
       "498            1.0               0.0                 1.0                   0.0  \n",
       "499            1.0               0.0                 0.0                   1.0  \n",
       "\n",
       "[500 rows x 10 columns]"
      ]
     },
     "execution_count": 54,
     "metadata": {},
     "output_type": "execute_result"
    }
   ],
   "source": [
    "from sklearn.preprocessing import OneHotEncoder\n",
    "enc = OneHotEncoder()\n",
    "enc_df = pd.DataFrame(enc.fit_transform(df[['type','mfg_process']]).toarray())\n",
    "enc_df.columns = enc.get_feature_names_out()\n",
    "data = df.join(enc_df)\n",
    "data.rename(columns={'0': 'type_custom',\n",
    "                    '1': 'type_standard',\n",
    "                    '2': 'mfg_process_cast',\n",
    "                    '3': 'mfg_process_forged',\n",
    "                    '4': 'mfg_process_machined'}, inplace=True)\n",
    "data"
   ]
  },
  {
   "cell_type": "code",
   "execution_count": null,
   "metadata": {},
   "outputs": [],
   "source": [
    "from sklearn.model_selection import train_test_split\n",
    "from sklearn.tree import DecisionTreeClassifier\n",
    "from sklearn.metrics import confusion_matrix\n",
    "import matplotlib.pyplot as plt\n",
    "import seaborn as sns\n",
    "X = data.drop(columns=['type', 'mfg_process','failure'])\n",
    "y = data['failure']\n",
    "X_train, X_test, y_train, y_test = train_test_split(X, y, test_size=0.3, random_state=22)"
   ]
  },
  {
   "cell_type": "code",
   "execution_count": null,
   "metadata": {},
   "outputs": [
    {
     "data": {
      "image/png": "[encoded data removed]",
      "text/plain": [
       "<Figure size 800x600 with 2 Axes>"
      ]
     },
     "metadata": {},
     "output_type": "display_data"
    }
   ],
   "source": [
    "clf = DecisionTreeClassifier(random_state=32)\n",
    "clf.fit(X_train, y_train)\n",
    "\n",
    "# Step 4: Predict the class labels for the testing set\n",
    "y_pred = clf.predict(X_test)\n",
    "\n",
    "# Step 5: Compute and display the confusion matrix\n",
    "cm = confusion_matrix(y_test, y_pred)\n",
    "\n",
    "# Plotting the confusion matrix\n",
    "plt.figure(figsize=(8, 6))\n",
    "sns.heatmap(cm, annot=True, fmt='g', cmap='Blues')\n",
    "plt.xlabel('Predicted labels')\n",
    "plt.ylabel('True labels')\n",
    "plt.title('Confusion Matrix')\n",
    "plt.show()"
   ]
  },
  {
   "cell_type": "code",
   "execution_count": null,
   "metadata": {},
   "outputs": [
    {
     "data": {
      "image/png": "[encoded data removed]",
      "text/plain": [
       "<Figure size 640x480 with 2 Axes>"
      ]
     },
     "metadata": {},
     "output_type": "display_data"
    }
   ],
   "source": [
    "cmn = cm.astype('float') / cm.sum(axis=1)[:, np.newaxis]\n",
    "fig= plt.subplots()\n",
    "sns.heatmap(cmn, annot=True, fmt='.2f', xticklabels=['creep', 'fatigue', 'fretting'], yticklabels=['creep', 'fatigue', 'fretting'])\n",
    "plt.ylabel(['Actual'])\n",
    "plt.xlabel('Predicted')\n",
    "plt.show()"
   ]
  },
  {
   "cell_type": "markdown",
   "metadata": {},
   "source": [
    "Our data is imbalanced. We need to adopt a resampling strategy"
   ]
  },
  {
   "cell_type": "markdown",
   "metadata": {},
   "source": [
    "A manual down samlpling"
   ]
  },
  {
   "cell_type": "code",
   "execution_count": 55,
   "metadata": {},
   "outputs": [],
   "source": [
    "data['failure'].value_counts()\n",
    "matching_rows = df[df['failure']=='fatigue']\n",
    "rows_to_remove = int(len(matching_rows) * (60 / 100))\n",
    "rows_to_remove_indices = np.random.choice(matching_rows.index, size=rows_to_remove, replace=False)\n",
    "\n",
    "data_lean = data.drop(rows_to_remove_indices)"
   ]
  },
  {
   "cell_type": "code",
   "execution_count": 56,
   "metadata": {},
   "outputs": [
    {
     "data": {
      "text/plain": [
       "failure\n",
       "fatigue     149\n",
       "fretting     90\n",
       "creep        39\n",
       "Name: count, dtype: int64"
      ]
     },
     "execution_count": 56,
     "metadata": {},
     "output_type": "execute_result"
    }
   ],
   "source": [
    "data_lean['failure'].value_counts()"
   ]
  },
  {
   "cell_type": "code",
   "execution_count": 57,
   "metadata": {},
   "outputs": [],
   "source": [
    "# data_lean.drop(columns=['type', 'mfg_process'],inplace=True)\n",
    "# data_lean.to_csv(\"clf_data_encoded.csv\",sep=\"\\t\")"
   ]
  },
  {
   "cell_type": "code",
   "execution_count": 62,
   "metadata": {},
   "outputs": [
    {
     "data": {
      "text/plain": [
       "371"
      ]
     },
     "execution_count": 62,
     "metadata": {},
     "output_type": "execute_result"
    }
   ],
   "source": [
    "data['failure'].value_counts().max()"
   ]
  },
  {
   "cell_type": "markdown",
   "metadata": {},
   "source": [
    "An alternative approach, upsampling the minority classes; might be better for a dataset that is already small"
   ]
  },
  {
   "cell_type": "code",
   "execution_count": 63,
   "metadata": {},
   "outputs": [],
   "source": [
    "from sklearn.utils import resample\n",
    "\n",
    "df_minority = data[data['failure']=='creep']\n",
    "df_remain = data[data['failure']!='creep']\n",
    "\n",
    "# Upsample minority class\n",
    "df_minority_upsampled = resample(df_minority,\n",
    "                                 replace=True,       # Sample with replacement\n",
    "                                 n_samples=data['failure'].value_counts().max(),    # Match number in majority class\n",
    "                                 random_state=123)   # Reproducible results\n",
    "\n",
    "df_upsampled = pd.concat([df_remain, df_minority_upsampled])\n",
    "\n",
    "data = df_upsampled\n",
    "# repeat for the other minority class\n",
    "df_minority = data[data['failure']=='fretting']\n",
    "df_remain = data[data['failure']!='fretting']\n",
    "\n",
    "# Upsample minority class\n",
    "df_minority_upsampled = resample(df_minority,\n",
    "                                 replace=True,       # Sample with replacement\n",
    "                                 n_samples=data['failure'].value_counts().max(),    # Match number in majority class\n",
    "                                 random_state=123)   # Reproducible results\n",
    "\n",
    "df_upsampled = pd.concat([df_remain, df_minority_upsampled])\n",
    "\n",
    "df_upsampled['failure'].value_counts()\n",
    "data = df_upsampled"
   ]
  },
  {
   "cell_type": "code",
   "execution_count": 64,
   "metadata": {},
   "outputs": [
    {
     "data": {
      "image/png": "[encoded data removed]",
      "text/plain": [
       "<Figure size 800x600 with 2 Axes>"
      ]
     },
     "metadata": {},
     "output_type": "display_data"
    },
    {
     "data": {
      "image/png": "[encoded data removed]",
      "text/plain": [
       "<Figure size 640x480 with 2 Axes>"
      ]
     },
     "metadata": {},
     "output_type": "display_data"
    }
   ],
   "source": [
    "X = data.drop(columns=['type', 'mfg_process','failure'])\n",
    "y = data['failure']\n",
    "X_train, X_test, y_train, y_test = train_test_split(X, y, test_size=0.3, random_state=22)\n",
    "\n",
    "clf = DecisionTreeClassifier(random_state=32)\n",
    "clf.fit(X_train, y_train)\n",
    "\n",
    "# Step 4: Predict the class labels for the testing set\n",
    "y_pred = clf.predict(X_test)\n",
    "\n",
    "# Step 5: Compute and display the confusion matrix\n",
    "cm = confusion_matrix(y_test, y_pred)\n",
    "\n",
    "# Plotting the confusion matrix\n",
    "plt.figure(figsize=(8, 6))\n",
    "sns.heatmap(cm, annot=True, fmt='g', cmap='Blues')\n",
    "plt.xlabel('Predicted labels')\n",
    "plt.ylabel('True labels')\n",
    "plt.title('Confusion Matrix')\n",
    "plt.show()\n",
    "\n",
    "cmn = cm.astype('float') / cm.sum(axis=1)[:, np.newaxis]\n",
    "fig= plt.subplots()\n",
    "sns.heatmap(cmn, annot=True, fmt='.2f', \n",
    "            xticklabels=['creep', 'fatigue', 'fretting'], \n",
    "            yticklabels=['creep', 'fatigue', 'fretting'])\n",
    "plt.ylabel(['Actual'])\n",
    "plt.xlabel('Predicted')\n",
    "plt.show()"
   ]
  },
  {
   "cell_type": "markdown",
   "metadata": {},
   "source": [
    "Let us try another classifier, K Nearest Neighbors. We can tune the number of neighrbors K and compare the results to our tree classification"
   ]
  },
  {
   "cell_type": "code",
   "execution_count": 65,
   "metadata": {},
   "outputs": [
    {
     "data": {
      "image/png": "[encoded data removed]",
      "text/plain": [
       "<Figure size 640x480 with 2 Axes>"
      ]
     },
     "metadata": {},
     "output_type": "display_data"
    }
   ],
   "source": [
    "from sklearn.neighbors import KNeighborsClassifier\n",
    "knn_clf = KNeighborsClassifier(n_neighbors=3)\n",
    "knn_clf.fit(X_train,y_train)\n",
    "y_pred = knn_clf.predict(X_test)\n",
    "\n",
    "cm = confusion_matrix(y_test, y_pred)\n",
    "\n",
    "# Plotting the confusion matrix\n",
    "\n",
    "cmn = cm.astype('float') / cm.sum(axis=1)[:, np.newaxis]\n",
    "fig= plt.subplots()\n",
    "sns.heatmap(cmn, annot=True, fmt='.2f', xticklabels=['creep', 'fatigue', 'fretting'], yticklabels=['creep', 'fatigue', 'fretting'])\n",
    "plt.title('Confusion Matrix')\n",
    "plt.ylabel(['Actual'])\n",
    "plt.xlabel('Predicted')\n",
    "plt.show()"
   ]
  },
  {
   "cell_type": "code",
   "execution_count": 66,
   "metadata": {},
   "outputs": [
    {
     "data": {
      "image/png": "[encoded data removed]",
      "text/plain": [
       "<Figure size 1000x1000 with 2 Axes>"
      ]
     },
     "metadata": {},
     "output_type": "display_data"
    }
   ],
   "source": [
    "fig, axs = plt.subplots(2, figsize=(10, 10))\n",
    "axs[0].hist(data['melt_temp'], bins=10)\n",
    "axs[1].hist(data['median_curv'], bins=10)\n",
    "plt.show()"
   ]
  }
 ],
 "metadata": {
  "kernelspec": {
   "display_name": "Python 3",
   "language": "python",
   "name": "python3"
  },
  "language_info": {
   "codemirror_mode": {
    "name": "ipython",
    "version": 3
   },
   "file_extension": ".py",
   "mimetype": "text/x-python",
   "name": "python",
   "nbconvert_exporter": "python",
   "pygments_lexer": "ipython3",
   "version": "3.13.1"
  }
 },
 "nbformat": 4,
 "nbformat_minor": 2
}
